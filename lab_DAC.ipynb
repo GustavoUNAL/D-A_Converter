{
 "cells": [
  {
   "cell_type": "markdown",
   "metadata": {},
   "source": [
    "## Laboratorio DAC"
   ]
  },
  {
   "cell_type": "code",
   "execution_count": null,
   "metadata": {},
   "outputs": [],
   "source": [
    "import sounddevice as sd\n",
    "import numpy as np\n",
    "import matplotlib.pyplot as plt\n",
    "from scipy.io.wavfile import write\n",
    "import sounddevice as sd"
   ]
  },
  {
   "cell_type": "markdown",
   "metadata": {},
   "source": [
    "## Listar sounddevice"
   ]
  },
  {
   "cell_type": "code",
   "execution_count": null,
   "metadata": {},
   "outputs": [],
   "source": [
    "print(sd.query_devices())"
   ]
  },
  {
   "cell_type": "code",
   "execution_count": null,
   "metadata": {},
   "outputs": [],
   "source": [
    "# sd.default.device[0] = 0  # Dispositivo de entrada para grabación\n",
    "# sd.default.device[1] = 1  # Dispositivo de salida para reproducción"
   ]
  },
  {
   "cell_type": "markdown",
   "metadata": {},
   "source": [
    "## Grabar Audio"
   ]
  },
  {
   "cell_type": "code",
   "execution_count": null,
   "metadata": {},
   "outputs": [],
   "source": [
    "# Configuración para la grabación\n",
    "fs = 44100  # Frecuencia de muestreo\n",
    "duration = 3  # Duración en segundos\n",
    "filename = 'output.wav'  # Nombre del archivo para guardar la grabación\n",
    "print(\"Comenzando la grabación.\")\n",
    "recorded_data = sd.rec(int(duration * fs), samplerate=fs, channels=1, dtype='float64')\n",
    "sd.wait()  # Esperar hasta que la grabación termine\n",
    "print(\"Grabación finalizada.\")\n",
    "# Guardar la grabación en un archivo WAV\n",
    "write(filename, fs, recorded_data)"
   ]
  },
  {
   "cell_type": "markdown",
   "metadata": {},
   "source": [
    "## Grafica onda de audio"
   ]
  },
  {
   "cell_type": "code",
   "execution_count": null,
   "metadata": {},
   "outputs": [],
   "source": [
    "# Analizar la forma de onda\n",
    "plt.figure(figsize=(16, 4))\n",
    "plt.plot(np.linspace(0, duration, len(recorded_data)), recorded_data[:, 0])  # Graficar solo un canal\n",
    "plt.title(\"Forma de onda del audio grabado\")\n",
    "plt.xlabel(\"Tiempo (s)\")\n",
    "plt.ylabel(\"Amplitud\")\n",
    "plt.show()\n",
    "\n"
   ]
  },
  {
   "cell_type": "markdown",
   "metadata": {},
   "source": [
    "## Reproducir Audio grabado"
   ]
  },
  {
   "cell_type": "code",
   "execution_count": null,
   "metadata": {},
   "outputs": [],
   "source": [
    "# Reproducir el audio grabado\n",
    "print(\"Reproduciendo el audio grabado.\")\n",
    "sd.play(recorded_data, fs)\n",
    "sd.wait()  # Esperar hasta que la reproducción termine"
   ]
  },
  {
   "cell_type": "markdown",
   "metadata": {},
   "source": [
    "## Análisis en la frecuencia"
   ]
  },
  {
   "cell_type": "code",
   "execution_count": null,
   "metadata": {},
   "outputs": [],
   "source": [
    "# Analisis en la frecuencia\n",
    "n = len(recorded_data)\n",
    "f = np.fft.fftfreq(n, 1/fs)\n",
    "f = f[:n//2]\n",
    "transformada = np.fft.fft(recorded_data[:, 0])\n",
    "transformada = transformada[:n//2]\n",
    "plt.figure(figsize=(16, 4))\n",
    "plt.plot(f, np.abs(transformada))\n",
    "plt.title(\"Espectro de frecuencia del audio grabado\")\n",
    "plt.xlabel(\"Frecuencia (Hz)\")\n",
    "plt.ylabel(\"Amplitud\")\n",
    "plt.show()"
   ]
  },
  {
   "cell_type": "markdown",
   "metadata": {},
   "source": [
    "## Sample and Hold"
   ]
  },
  {
   "cell_type": "code",
   "execution_count": null,
   "metadata": {},
   "outputs": [],
   "source": [
    "import numpy as np\n",
    "import matplotlib.pyplot as plt\n",
    "\n",
    "# Asumiendo que recorded_data es tu señal grabada y fs es la frecuencia de muestreo\n",
    "fs = 44100  # Frecuencia de muestreo en Hz\n",
    "duration = 1  # Duración de la señal que queremos analizar (último segundo)\n",
    "\n",
    "# Tomar solo el último segundo de la señal\n",
    "analog_signal = recorded_data[-fs:, 0]\n",
    "\n",
    "# Simulación de muestreo y retención\n",
    "sampling_period = 0.0002  # Segundos\n",
    "sampling_rate = 1 / sampling_period  # Frecuencia de muestreo para la simulación\n",
    "time = np.linspace(0, duration, fs * duration)  # Vector de tiempo para el último segundo\n",
    "\n",
    "# Calcular los índices de muestreo basados en el período de muestreo\n",
    "sampling_indices = np.arange(0, len(analog_signal), int(sampling_period * fs))\n",
    "sampled_signal = np.zeros_like(analog_signal)\n",
    "\n",
    "# Aplicar el muestreo y retención\n",
    "for i in range(len(sampling_indices)-1):\n",
    "    sampled_signal[sampling_indices[i]:sampling_indices[i+1]] = analog_signal[sampling_indices[i]]\n",
    "\n",
    "# Visualización de la señal original y la señal muestreada y retenida\n",
    "plt.figure(figsize=(15, 4))\n",
    "plt.plot(time, analog_signal, label='Señal Análoga', color='orange')\n",
    "plt.step(time, sampled_signal, where='post', label='Señal Muestreada y Retenida', color='blue')\n",
    "plt.title('Simulación de Muestreo y Retención')\n",
    "plt.xlabel('Tiempo (s)')\n",
    "plt.ylabel('Amplitud')\n",
    "plt.legend()\n",
    "plt.grid(True)\n",
    "plt.show()\n"
   ]
  },
  {
   "cell_type": "code",
   "execution_count": null,
   "metadata": {},
   "outputs": [],
   "source": [
    "import numpy as np\n",
    "import matplotlib.pyplot as plt\n",
    "from scipy.fft import fft, fftfreq\n",
    "import ipywidgets as widgets\n",
    "from ipywidgets import interact\n",
    "\n",
    "# Supongamos que recorded_data y fs están definidos previamente\n",
    "fs = 44100  # Frecuencia de muestreo en Hz\n",
    "analog_signal = recorded_data[-fs:, 0]  # Último segundo de la señal\n",
    "\n",
    "def plot_signal_and_fft(sampling_period):\n",
    "    # Simulación de muestreo y retención\n",
    "    sampling_rate = 1 / sampling_period\n",
    "    time = np.linspace(0, 1, fs, endpoint=False)\n",
    "    sampling_indices = np.arange(0, len(analog_signal), int(sampling_period * fs))\n",
    "    sampled_signal = np.zeros_like(analog_signal)\n",
    "    for i in range(len(sampling_indices)-1):\n",
    "        sampled_signal[sampling_indices[i]:sampling_indices[i+1]] = analog_signal[sampling_indices[i]]\n",
    "    \n",
    "    # Calculo de la FFT para ambas señales\n",
    "    fft_analog = fft(analog_signal)\n",
    "    fft_sampled = fft(sampled_signal)\n",
    "    freq = fftfreq(len(analog_signal), 1/fs)\n",
    "    \n",
    "    # Gráfico en el dominio del tiempo\n",
    "    plt.figure(figsize=(15, 6))\n",
    "    plt.subplot(2, 1, 1)\n",
    "    plt.plot(time, analog_signal, label='Señal Análoga', color='orange')\n",
    "    plt.step(time, sampled_signal, where='post', label='Señal Muestreada y Retenida', color='blue')\n",
    "    plt.title('Señales en el Dominio del Tiempo')\n",
    "    plt.xlabel('Tiempo (s)')\n",
    "    plt.ylabel('Amplitud')\n",
    "    plt.legend()\n",
    "    plt.grid(True)\n",
    "    \n",
    "    # Gráfico en el dominio de la frecuencia\n",
    "    plt.subplot(2, 1, 2)\n",
    "    plt.plot(freq, np.abs(fft_analog), label='FFT Señal Análoga', color='orange')\n",
    "    plt.plot(freq, np.abs(fft_sampled), label='FFT Señal Muestreada y Retenida', color='blue', linestyle='--')\n",
    "    plt.title('Análisis en el Dominio de la Frecuencia')\n",
    "    plt.xlabel('Frecuencia (Hz)')\n",
    "    plt.ylabel('Magnitud')\n",
    "    plt.xlim(0, fs / 2)  # Mostrar solo hasta la frecuencia de Nyquist\n",
    "    plt.legend()\n",
    "    plt.grid(True)\n",
    "    plt.tight_layout()\n",
    "    plt.show()\n",
    "\n",
    "# Crear un deslizador para ajustar el periodo de muestreo\n",
    "sampling_period_slider = widgets.FloatSlider(value=0.1, min=0.0001, max=0.06, step=0.001, description='Periodo de Muestreo:')\n",
    "interact(plot_signal_and_fft, sampling_period=sampling_period_slider)\n"
   ]
  },
  {
   "cell_type": "markdown",
   "metadata": {},
   "source": [
    "## Reproducir Audio"
   ]
  },
  {
   "cell_type": "code",
   "execution_count": null,
   "metadata": {},
   "outputs": [],
   "source": [
    "# Reproducir el audio grabado\n",
    "print(\"Reproduciendo el último segundo de la señal grabada.\")\n",
    "sd.play(analog_signal, fs)\n",
    "sd.wait()  # Esperar hasta que la reproducción termine"
   ]
  },
  {
   "cell_type": "code",
   "execution_count": null,
   "metadata": {},
   "outputs": [],
   "source": [
    "# Reproducir el audio grabado\n",
    "print(\"Reproduciendo el último segundo de la señal procesada.\")\n",
    "sd.play(sampled_signal, fs)\n",
    "sd.wait()  # Esperar hasta que la reproducción termine"
   ]
  }
 ],
 "metadata": {
  "kernelspec": {
   "display_name": "Python 3",
   "language": "python",
   "name": "python3"
  },
  "language_info": {
   "codemirror_mode": {
    "name": "ipython",
    "version": 3
   },
   "file_extension": ".py",
   "mimetype": "text/x-python",
   "name": "python",
   "nbconvert_exporter": "python",
   "pygments_lexer": "ipython3",
   "version": "3.11.7"
  }
 },
 "nbformat": 4,
 "nbformat_minor": 2
}
