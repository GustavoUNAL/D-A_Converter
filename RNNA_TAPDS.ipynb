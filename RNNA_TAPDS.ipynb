{
  "nbformat": 4,
  "nbformat_minor": 0,
  "metadata": {
    "colab": {
      "provenance": [],
      "mount_file_id": "1DgzPWxEBJnJp24dxB-wYwoRzpy8cbnuu",
      "authorship_tag": "ABX9TyNqB8UIrAZMKOdVsPL3oGnj",
      "include_colab_link": true
    },
    "kernelspec": {
      "name": "python3",
      "display_name": "Python 3"
    },
    "language_info": {
      "name": "python"
    }
  },
  "cells": [
    {
      "cell_type": "markdown",
      "metadata": {
        "id": "view-in-github",
        "colab_type": "text"
      },
      "source": [
        "<a href=\"https://colab.research.google.com/github/GustavoUNAL/D-A_Converter/blob/main/RNNA_TAPDS.ipynb\" target=\"_parent\"><img src=\"https://colab.research.google.com/assets/colab-badge.svg\" alt=\"Open In Colab\"/></a>"
      ]
    },
    {
      "cell_type": "code",
      "execution_count": null,
      "metadata": {
        "colab": {
          "base_uri": "https://localhost:8080/"
        },
        "id": "u8U6o0UGOZDe",
        "outputId": "3717a261-3b78-4509-98d5-4d7761f71fc4"
      },
      "outputs": [
        {
          "output_type": "stream",
          "name": "stdout",
          "text": [
            "Requirement already satisfied: numpy in /usr/local/lib/python3.10/dist-packages (1.25.2)\n",
            "Requirement already satisfied: tensorflow in /usr/local/lib/python3.10/dist-packages (2.15.0)\n",
            "Requirement already satisfied: keras in /usr/local/lib/python3.10/dist-packages (2.15.0)\n",
            "Requirement already satisfied: absl-py>=1.0.0 in /usr/local/lib/python3.10/dist-packages (from tensorflow) (1.4.0)\n",
            "Requirement already satisfied: astunparse>=1.6.0 in /usr/local/lib/python3.10/dist-packages (from tensorflow) (1.6.3)\n",
            "Requirement already satisfied: flatbuffers>=23.5.26 in /usr/local/lib/python3.10/dist-packages (from tensorflow) (24.3.25)\n",
            "Requirement already satisfied: gast!=0.5.0,!=0.5.1,!=0.5.2,>=0.2.1 in /usr/local/lib/python3.10/dist-packages (from tensorflow) (0.5.4)\n",
            "Requirement already satisfied: google-pasta>=0.1.1 in /usr/local/lib/python3.10/dist-packages (from tensorflow) (0.2.0)\n",
            "Requirement already satisfied: h5py>=2.9.0 in /usr/local/lib/python3.10/dist-packages (from tensorflow) (3.9.0)\n",
            "Requirement already satisfied: libclang>=13.0.0 in /usr/local/lib/python3.10/dist-packages (from tensorflow) (18.1.1)\n",
            "Requirement already satisfied: ml-dtypes~=0.2.0 in /usr/local/lib/python3.10/dist-packages (from tensorflow) (0.2.0)\n",
            "Requirement already satisfied: opt-einsum>=2.3.2 in /usr/local/lib/python3.10/dist-packages (from tensorflow) (3.3.0)\n",
            "Requirement already satisfied: packaging in /usr/local/lib/python3.10/dist-packages (from tensorflow) (24.0)\n",
            "Requirement already satisfied: protobuf!=4.21.0,!=4.21.1,!=4.21.2,!=4.21.3,!=4.21.4,!=4.21.5,<5.0.0dev,>=3.20.3 in /usr/local/lib/python3.10/dist-packages (from tensorflow) (3.20.3)\n",
            "Requirement already satisfied: setuptools in /usr/local/lib/python3.10/dist-packages (from tensorflow) (67.7.2)\n",
            "Requirement already satisfied: six>=1.12.0 in /usr/local/lib/python3.10/dist-packages (from tensorflow) (1.16.0)\n",
            "Requirement already satisfied: termcolor>=1.1.0 in /usr/local/lib/python3.10/dist-packages (from tensorflow) (2.4.0)\n",
            "Requirement already satisfied: typing-extensions>=3.6.6 in /usr/local/lib/python3.10/dist-packages (from tensorflow) (4.11.0)\n",
            "Requirement already satisfied: wrapt<1.15,>=1.11.0 in /usr/local/lib/python3.10/dist-packages (from tensorflow) (1.14.1)\n",
            "Requirement already satisfied: tensorflow-io-gcs-filesystem>=0.23.1 in /usr/local/lib/python3.10/dist-packages (from tensorflow) (0.37.0)\n",
            "Requirement already satisfied: grpcio<2.0,>=1.24.3 in /usr/local/lib/python3.10/dist-packages (from tensorflow) (1.63.0)\n",
            "Requirement already satisfied: tensorboard<2.16,>=2.15 in /usr/local/lib/python3.10/dist-packages (from tensorflow) (2.15.2)\n",
            "Requirement already satisfied: tensorflow-estimator<2.16,>=2.15.0 in /usr/local/lib/python3.10/dist-packages (from tensorflow) (2.15.0)\n",
            "Requirement already satisfied: wheel<1.0,>=0.23.0 in /usr/local/lib/python3.10/dist-packages (from astunparse>=1.6.0->tensorflow) (0.43.0)\n",
            "Requirement already satisfied: google-auth<3,>=1.6.3 in /usr/local/lib/python3.10/dist-packages (from tensorboard<2.16,>=2.15->tensorflow) (2.27.0)\n",
            "Requirement already satisfied: google-auth-oauthlib<2,>=0.5 in /usr/local/lib/python3.10/dist-packages (from tensorboard<2.16,>=2.15->tensorflow) (1.2.0)\n",
            "Requirement already satisfied: markdown>=2.6.8 in /usr/local/lib/python3.10/dist-packages (from tensorboard<2.16,>=2.15->tensorflow) (3.6)\n",
            "Requirement already satisfied: requests<3,>=2.21.0 in /usr/local/lib/python3.10/dist-packages (from tensorboard<2.16,>=2.15->tensorflow) (2.31.0)\n",
            "Requirement already satisfied: tensorboard-data-server<0.8.0,>=0.7.0 in /usr/local/lib/python3.10/dist-packages (from tensorboard<2.16,>=2.15->tensorflow) (0.7.2)\n",
            "Requirement already satisfied: werkzeug>=1.0.1 in /usr/local/lib/python3.10/dist-packages (from tensorboard<2.16,>=2.15->tensorflow) (3.0.3)\n",
            "Requirement already satisfied: cachetools<6.0,>=2.0.0 in /usr/local/lib/python3.10/dist-packages (from google-auth<3,>=1.6.3->tensorboard<2.16,>=2.15->tensorflow) (5.3.3)\n",
            "Requirement already satisfied: pyasn1-modules>=0.2.1 in /usr/local/lib/python3.10/dist-packages (from google-auth<3,>=1.6.3->tensorboard<2.16,>=2.15->tensorflow) (0.4.0)\n",
            "Requirement already satisfied: rsa<5,>=3.1.4 in /usr/local/lib/python3.10/dist-packages (from google-auth<3,>=1.6.3->tensorboard<2.16,>=2.15->tensorflow) (4.9)\n",
            "Requirement already satisfied: requests-oauthlib>=0.7.0 in /usr/local/lib/python3.10/dist-packages (from google-auth-oauthlib<2,>=0.5->tensorboard<2.16,>=2.15->tensorflow) (1.3.1)\n",
            "Requirement already satisfied: charset-normalizer<4,>=2 in /usr/local/lib/python3.10/dist-packages (from requests<3,>=2.21.0->tensorboard<2.16,>=2.15->tensorflow) (3.3.2)\n",
            "Requirement already satisfied: idna<4,>=2.5 in /usr/local/lib/python3.10/dist-packages (from requests<3,>=2.21.0->tensorboard<2.16,>=2.15->tensorflow) (3.7)\n",
            "Requirement already satisfied: urllib3<3,>=1.21.1 in /usr/local/lib/python3.10/dist-packages (from requests<3,>=2.21.0->tensorboard<2.16,>=2.15->tensorflow) (2.0.7)\n",
            "Requirement already satisfied: certifi>=2017.4.17 in /usr/local/lib/python3.10/dist-packages (from requests<3,>=2.21.0->tensorboard<2.16,>=2.15->tensorflow) (2024.2.2)\n",
            "Requirement already satisfied: MarkupSafe>=2.1.1 in /usr/local/lib/python3.10/dist-packages (from werkzeug>=1.0.1->tensorboard<2.16,>=2.15->tensorflow) (2.1.5)\n",
            "Requirement already satisfied: pyasn1<0.7.0,>=0.4.6 in /usr/local/lib/python3.10/dist-packages (from pyasn1-modules>=0.2.1->google-auth<3,>=1.6.3->tensorboard<2.16,>=2.15->tensorflow) (0.6.0)\n",
            "Requirement already satisfied: oauthlib>=3.0.0 in /usr/local/lib/python3.10/dist-packages (from requests-oauthlib>=0.7.0->google-auth-oauthlib<2,>=0.5->tensorboard<2.16,>=2.15->tensorflow) (3.2.2)\n"
          ]
        }
      ],
      "source": [
        "!pip install numpy tensorflow keras\n"
      ]
    },
    {
      "cell_type": "code",
      "source": [
        "import numpy as np\n",
        "\n",
        "# Cargar los datos con allow_pickle=True\n",
        "data_input = np.load('/content/drive/MyDrive/TPDS/data_input.npy', allow_pickle=True)\n",
        "data_labels = np.load('/content/drive/MyDrive/TPDS/data_labels.npy', allow_pickle=True)\n"
      ],
      "metadata": {
        "id": "zMjBnJVEQP9j"
      },
      "execution_count": null,
      "outputs": []
    },
    {
      "cell_type": "code",
      "source": [
        "print(data_input.shape)\n",
        "print(data_labels.shape)"
      ],
      "metadata": {
        "colab": {
          "base_uri": "https://localhost:8080/"
        },
        "id": "8SVVstWeRCJO",
        "outputId": "a7056f7e-dbcb-4723-f2c4-066b9779a2af"
      },
      "execution_count": null,
      "outputs": [
        {
          "output_type": "stream",
          "name": "stdout",
          "text": [
            "(15, 499, 19)\n",
            "(15, 3)\n"
          ]
        }
      ]
    },
    {
      "cell_type": "code",
      "source": [
        "import numpy as np\n",
        "from sklearn.preprocessing import StandardScaler\n",
        "\n",
        "# Asumiendo que data_input es un array de NumPy\n",
        "data_input_reshaped = data_input.reshape(-1, data_input.shape[-1])\n",
        "\n",
        "# Función para convertir strings a float\n",
        "def convert_to_float(x):\n",
        "    if isinstance(x, str):\n",
        "        # Reemplaza comas con puntos si es necesario\n",
        "        x = x.replace(',', '.')\n",
        "        # Remueve puntos como separadores de miles, si no están en un contexto decimal\n",
        "        if x.count('.') > 1:\n",
        "            x = x.replace('.', '', x.count('.') - 1)\n",
        "        return float(x)\n",
        "    return x\n",
        "\n",
        "# Convertir las cadenas a números flotantes\n",
        "data_input_reshaped = np.array([convert_to_float(x) for x in data_input_reshaped.flatten()]).reshape(data_input_reshaped.shape)\n",
        "\n",
        "# Crear y aplicar el StandardScaler\n",
        "scaler = StandardScaler()\n",
        "data_input_reshaped = scaler.fit_transform(data_input_reshaped)\n",
        "data_input = data_input_reshaped.reshape(data_input.shape)\n"
      ],
      "metadata": {
        "id": "CkaeunknRzre"
      },
      "execution_count": null,
      "outputs": []
    },
    {
      "cell_type": "code",
      "source": [
        "from sklearn.model_selection import train_test_split\n",
        "\n",
        "# Dividir los datos\n",
        "train_input, test_input, train_labels, test_labels = train_test_split(data_input, data_labels, test_size=0.1, random_state=42)\n"
      ],
      "metadata": {
        "id": "wC6pEf5dSVWL"
      },
      "execution_count": null,
      "outputs": []
    },
    {
      "cell_type": "markdown",
      "source": [
        "Construcción de la Red Neuronal"
      ],
      "metadata": {
        "id": "SobBm_chSaIQ"
      }
    },
    {
      "cell_type": "code",
      "source": [
        "\n",
        "from keras.models import Sequential\n",
        "from keras.layers import LSTM, Dense, Dropout\n",
        "\n",
        "# Número de características de entrada\n",
        "n_features = data_input.shape[2]\n",
        "\n",
        "# Definir el modelo\n",
        "model = Sequential([\n",
        "    LSTM(50, input_shape=(data_input.shape[1], n_features), return_sequences=True),\n",
        "    #### ---\n",
        "    #data_input.shape[1]: Número de pasos de tiempo (timesteps)\n",
        "    #n_features: Número de características por paso de tiempo\n",
        "    #return_sequences=True: Devuelve la secuencia completa (salida para cada paso de tiempo)\n",
        "    ### ---\n",
        "    Dropout(0.2),  # Regularización para reducir el sobreajuste. El 20% de las unidades se descartan durante el entrenamiento.\n",
        "    LSTM(50), #Devuelve solo la última salida en la secuencia.\n",
        "    Dropout(0.2),  # Regularización para reducir el sobreajuste\n",
        "    Dense(32, activation='relu'),  # Capa densa adicional totalmente conectada con 30 neuronas y Función de activación ReLU para introducir no linealidad.\n",
        "    Dropout(0.2),  #Regularización para reducir el sobreajuste\n",
        "    Dense(3, activation='softmax') # Número de clases de salida ( run, wal, sit) Función de activación Softmax para obtener probabilidades para cada clase.\n",
        "])\n",
        "\n",
        "# Compilar el modelo\n",
        "model.compile(optimizer='adam', loss='categorical_crossentropy', metrics=['accuracy'])\n"
      ],
      "metadata": {
        "id": "bSxHmNiaSa11"
      },
      "execution_count": null,
      "outputs": []
    },
    {
      "cell_type": "code",
      "source": [
        "# Entrenar el modelo\n",
        "\n",
        "history = model.fit(data_input, data_labels, epochs=30, batch_size=32, validation_split=0.2)\n",
        "\n"
      ],
      "metadata": {
        "colab": {
          "base_uri": "https://localhost:8080/"
        },
        "id": "Aaiyc3EwShOV",
        "outputId": "0e8b434b-f73a-49cc-8769-20296a709e0d"
      },
      "execution_count": null,
      "outputs": [
        {
          "output_type": "stream",
          "name": "stdout",
          "text": [
            "Epoch 1/30\n",
            "1/1 [==============================] - 7s 7s/step - loss: 1.1025 - accuracy: 0.3333 - val_loss: 1.1076 - val_accuracy: 0.3333\n",
            "Epoch 2/30\n",
            "1/1 [==============================] - 0s 419ms/step - loss: 1.0292 - accuracy: 0.6667 - val_loss: 1.0983 - val_accuracy: 0.3333\n",
            "Epoch 3/30\n",
            "1/1 [==============================] - 0s 427ms/step - loss: 0.9667 - accuracy: 0.7500 - val_loss: 1.0893 - val_accuracy: 0.3333\n",
            "Epoch 4/30\n",
            "1/1 [==============================] - 0s 422ms/step - loss: 0.9116 - accuracy: 0.8333 - val_loss: 1.0817 - val_accuracy: 0.3333\n",
            "Epoch 5/30\n",
            "1/1 [==============================] - 0s 436ms/step - loss: 0.9547 - accuracy: 0.7500 - val_loss: 1.0708 - val_accuracy: 0.6667\n",
            "Epoch 6/30\n",
            "1/1 [==============================] - 0s 411ms/step - loss: 0.8330 - accuracy: 0.9167 - val_loss: 1.0606 - val_accuracy: 0.6667\n",
            "Epoch 7/30\n",
            "1/1 [==============================] - 0s 435ms/step - loss: 0.8491 - accuracy: 0.9167 - val_loss: 1.0497 - val_accuracy: 0.6667\n",
            "Epoch 8/30\n",
            "1/1 [==============================] - 0s 421ms/step - loss: 0.7834 - accuracy: 0.9167 - val_loss: 1.0388 - val_accuracy: 0.6667\n",
            "Epoch 9/30\n",
            "1/1 [==============================] - 0s 415ms/step - loss: 0.7436 - accuracy: 0.9167 - val_loss: 1.0279 - val_accuracy: 0.6667\n",
            "Epoch 10/30\n",
            "1/1 [==============================] - 0s 456ms/step - loss: 0.7609 - accuracy: 0.8333 - val_loss: 1.0185 - val_accuracy: 0.6667\n",
            "Epoch 11/30\n",
            "1/1 [==============================] - 0s 409ms/step - loss: 0.7221 - accuracy: 1.0000 - val_loss: 1.0076 - val_accuracy: 0.6667\n",
            "Epoch 12/30\n",
            "1/1 [==============================] - 0s 429ms/step - loss: 0.6306 - accuracy: 0.9167 - val_loss: 0.9981 - val_accuracy: 0.6667\n",
            "Epoch 13/30\n",
            "1/1 [==============================] - 0s 407ms/step - loss: 0.6709 - accuracy: 0.8333 - val_loss: 0.9897 - val_accuracy: 0.6667\n",
            "Epoch 14/30\n",
            "1/1 [==============================] - 0s 437ms/step - loss: 0.5619 - accuracy: 1.0000 - val_loss: 0.9826 - val_accuracy: 0.6667\n",
            "Epoch 15/30\n",
            "1/1 [==============================] - 0s 420ms/step - loss: 0.6154 - accuracy: 1.0000 - val_loss: 0.9778 - val_accuracy: 0.6667\n",
            "Epoch 16/30\n",
            "1/1 [==============================] - 0s 426ms/step - loss: 0.4982 - accuracy: 1.0000 - val_loss: 0.9748 - val_accuracy: 0.6667\n",
            "Epoch 17/30\n",
            "1/1 [==============================] - 1s 525ms/step - loss: 0.4472 - accuracy: 1.0000 - val_loss: 0.9734 - val_accuracy: 0.6667\n",
            "Epoch 18/30\n",
            "1/1 [==============================] - 1s 729ms/step - loss: 0.4157 - accuracy: 1.0000 - val_loss: 0.9751 - val_accuracy: 0.6667\n",
            "Epoch 19/30\n",
            "1/1 [==============================] - 1s 758ms/step - loss: 0.3775 - accuracy: 1.0000 - val_loss: 0.9796 - val_accuracy: 0.6667\n",
            "Epoch 20/30\n",
            "1/1 [==============================] - 1s 702ms/step - loss: 0.3228 - accuracy: 1.0000 - val_loss: 0.9905 - val_accuracy: 0.6667\n",
            "Epoch 21/30\n",
            "1/1 [==============================] - 1s 720ms/step - loss: 0.2983 - accuracy: 1.0000 - val_loss: 1.0065 - val_accuracy: 0.6667\n",
            "Epoch 22/30\n",
            "1/1 [==============================] - 1s 749ms/step - loss: 0.2468 - accuracy: 1.0000 - val_loss: 1.0278 - val_accuracy: 0.6667\n",
            "Epoch 23/30\n",
            "1/1 [==============================] - 1s 811ms/step - loss: 0.2013 - accuracy: 1.0000 - val_loss: 1.0564 - val_accuracy: 0.6667\n",
            "Epoch 24/30\n",
            "1/1 [==============================] - 1s 582ms/step - loss: 0.1914 - accuracy: 1.0000 - val_loss: 1.0912 - val_accuracy: 0.6667\n",
            "Epoch 25/30\n",
            "1/1 [==============================] - 0s 415ms/step - loss: 0.1537 - accuracy: 1.0000 - val_loss: 1.1318 - val_accuracy: 0.6667\n",
            "Epoch 26/30\n",
            "1/1 [==============================] - 0s 416ms/step - loss: 0.1272 - accuracy: 1.0000 - val_loss: 1.1783 - val_accuracy: 0.6667\n",
            "Epoch 27/30\n",
            "1/1 [==============================] - 0s 429ms/step - loss: 0.1267 - accuracy: 1.0000 - val_loss: 1.2287 - val_accuracy: 0.6667\n",
            "Epoch 28/30\n",
            "1/1 [==============================] - 0s 435ms/step - loss: 0.1052 - accuracy: 1.0000 - val_loss: 1.2827 - val_accuracy: 0.6667\n",
            "Epoch 29/30\n",
            "1/1 [==============================] - 0s 446ms/step - loss: 0.0999 - accuracy: 1.0000 - val_loss: 1.3384 - val_accuracy: 0.6667\n",
            "Epoch 30/30\n",
            "1/1 [==============================] - 0s 430ms/step - loss: 0.1000 - accuracy: 1.0000 - val_loss: 1.3928 - val_accuracy: 0.6667\n"
          ]
        }
      ]
    },
    {
      "cell_type": "markdown",
      "source": [
        "## Desempeño de la red neuronal"
      ],
      "metadata": {
        "id": "eN6K5Pk1rJ1Q"
      }
    },
    {
      "cell_type": "code",
      "source": [
        "\n",
        "# Graficar la pérdida (loss) y precisión (accuracy)\n",
        "import matplotlib.pyplot as plt\n",
        "\n",
        "def plot_training_history(history):\n",
        "    # Pérdida\n",
        "    plt.figure(figsize=(12, 5))\n",
        "    plt.subplot(1, 2, 1)\n",
        "    plt.plot(history.history['loss'], label='Pérdida de Entrenamiento')\n",
        "    plt.plot(history.history['val_loss'], label='Pérdida de Validación')\n",
        "    plt.xlabel('Épocas')\n",
        "    plt.ylabel('Pérdida')\n",
        "    plt.legend()\n",
        "    plt.title('Pérdida vs Épocas')\n",
        "\n",
        "    # Precisión\n",
        "    plt.subplot(1, 2, 2)\n",
        "    plt.plot(history.history['accuracy'], label='Precisión de Entrenamiento')\n",
        "    plt.plot(history.history['val_accuracy'], label='Precisión de Validación')\n",
        "    plt.xlabel('Épocas')\n",
        "    plt.ylabel('Precisión')\n",
        "    plt.legend()\n",
        "    plt.title('Precisión vs Épocas')\n",
        "\n",
        "    plt.tight_layout()\n",
        "    plt.show()\n",
        "\n",
        "# Llamar a la función para graficar\n",
        "plot_training_history(history)"
      ],
      "metadata": {
        "colab": {
          "base_uri": "https://localhost:8080/",
          "height": 507
        },
        "id": "fX6TFLFW06cx",
        "outputId": "5691e462-65d4-4b4d-c297-b968cc233249"
      },
      "execution_count": null,
      "outputs": [
        {
          "output_type": "display_data",
          "data": {
            "text/plain": [
              "<Figure size 1200x500 with 2 Axes>"
            ],
            "image/png": "[encoded data removed]"
          },
          "metadata": {}
        }
      ]
    },
    {
      "cell_type": "markdown",
      "source": [
        "## Test Accuracy"
      ],
      "metadata": {
        "id": "EIfNVgyovjh6"
      }
    },
    {
      "cell_type": "code",
      "source": [
        "# Evaluar el modelo\n",
        "test_loss, test_acc = model.evaluate(test_input, test_labels)\n",
        "print('Test accuracy:', test_acc)\n"
      ],
      "metadata": {
        "colab": {
          "base_uri": "https://localhost:8080/"
        },
        "id": "vsY0HL8RSooA",
        "outputId": "0c847697-5b32-4867-e104-7701346fed7a"
      },
      "execution_count": null,
      "outputs": [
        {
          "output_type": "stream",
          "name": "stdout",
          "text": [
            "1/1 [==============================] - 0s 93ms/step - loss: 0.0440 - accuracy: 1.0000\n",
            "Test accuracy: 1.0\n"
          ]
        }
      ]
    },
    {
      "cell_type": "markdown",
      "source": [
        "Esto significa que el modelo predijo correctamente el 100% de las etiquetas en el conjunto de prueba.\n",
        "\n",
        "y que el modelo alcanzó una precisión de aproximadamente 100% en el conjunto de prueba."
      ],
      "metadata": {
        "id": "lFZihfltrvoh"
      }
    },
    {
      "cell_type": "code",
      "source": [
        "test_loss, test_accuracy = model.evaluate(test_input, test_labels)\n",
        "print(f'Pérdida en el conjunto de prueba: {test_loss}')\n",
        "print(f'Precisión en el conjunto de prueba: {test_accuracy}')\n"
      ],
      "metadata": {
        "colab": {
          "base_uri": "https://localhost:8080/"
        },
        "id": "5jFPkURf0urc",
        "outputId": "074b274d-446a-427a-b30d-052fc13bf544"
      },
      "execution_count": null,
      "outputs": [
        {
          "output_type": "stream",
          "name": "stdout",
          "text": [
            "1/1 [==============================] - 0s 77ms/step - loss: 0.0440 - accuracy: 1.0000\n",
            "Pérdida en el conjunto de prueba: 0.04402165859937668\n",
            "Precisión en el conjunto de prueba: 1.0\n"
          ]
        }
      ]
    },
    {
      "cell_type": "markdown",
      "source": [
        "## Obetener las predicciones"
      ],
      "metadata": {
        "id": "d1_RvTMi1XAz"
      }
    },
    {
      "cell_type": "code",
      "source": [
        "# Obtener las predicciones\n",
        "test_pred = model.predict(test_input)\n",
        "test_pred_labels = np.argmax(test_pred, axis=1)\n",
        "test_true_labels = np.argmax(test_labels, axis=1)\n"
      ],
      "metadata": {
        "colab": {
          "base_uri": "https://localhost:8080/"
        },
        "id": "0sA5FKlr1ZIT",
        "outputId": "9ef5d845-713a-4648-e65a-ce56936b3704"
      },
      "execution_count": null,
      "outputs": [
        {
          "output_type": "stream",
          "name": "stdout",
          "text": [
            "1/1 [==============================] - 1s 978ms/step\n"
          ]
        }
      ]
    },
    {
      "cell_type": "markdown",
      "source": [
        "## recall_score"
      ],
      "metadata": {
        "id": "M0H4FWd6vozr"
      }
    },
    {
      "cell_type": "code",
      "source": [
        "from sklearn.metrics import recall_score\n",
        "\n",
        "# Calcular la sensibilidad\n",
        "recall = recall_score(test_true_labels, test_pred_labels, average='macro')\n",
        "print(f'Recall (Sensibilidad): {recall}')\n"
      ],
      "metadata": {
        "colab": {
          "base_uri": "https://localhost:8080/"
        },
        "id": "g7FD1f2zukQ4",
        "outputId": "1be803fc-c3bb-442d-80f6-a65e41b3d0c6"
      },
      "execution_count": null,
      "outputs": [
        {
          "output_type": "stream",
          "name": "stdout",
          "text": [
            "Recall (Sensibilidad): 1.0\n"
          ]
        }
      ]
    },
    {
      "cell_type": "markdown",
      "source": [
        "\n",
        "La métrica Recall (Sensibilidad), también conocida como recall o true positive rate (tasa de verdaderos positivos), mide la capacidad del modelo para identificar correctamente los casos positivos. En otras palabras, indica el porcentaje de muestras positivas que el modelo ha clasificado correctamente como positivas.\n",
        "\n",
        "Esto significa que el modelo está identificando correctamente el 100% de las muestras positivas."
      ],
      "metadata": {
        "id": "bLXCIEfSwCaF"
      }
    },
    {
      "cell_type": "markdown",
      "source": [
        "## F1-Score"
      ],
      "metadata": {
        "id": "yNQxkRvTwG2U"
      }
    },
    {
      "cell_type": "code",
      "source": [
        "from sklearn.metrics import f1_score\n",
        "\n",
        "# Calcular el F1-Score\n",
        "f1 = f1_score(test_true_labels, test_pred_labels, average='macro')\n",
        "print(f'F1-Score: {f1}')\n",
        "\n"
      ],
      "metadata": {
        "colab": {
          "base_uri": "https://localhost:8080/"
        },
        "id": "3M6p9Zigu6gJ",
        "outputId": "606fa84b-6400-4a6b-8055-6a21a2a92a64"
      },
      "execution_count": null,
      "outputs": [
        {
          "output_type": "stream",
          "name": "stdout",
          "text": [
            "F1-Score: 1.0\n"
          ]
        }
      ]
    },
    {
      "cell_type": "markdown",
      "source": [
        "El F1-Score es una métrica que combina la precisión y el recall (sensibilidad) en una sola puntuación para proporcionar una medida más equilibrada del rendimiento del modelo.\n",
        "\n",
        "Un valor de 1 implica que el modelo tiene un rendimiento excelene."
      ],
      "metadata": {
        "id": "4GuOK713wQfp"
      }
    },
    {
      "cell_type": "markdown",
      "source": [
        "## Curva ROC"
      ],
      "metadata": {
        "id": "TY4rCaklxAxq"
      }
    },
    {
      "cell_type": "code",
      "source": [
        "from sklearn.metrics import roc_curve, auc, RocCurveDisplay\n",
        "\n",
        "# Binarizar las etiquetas si es necesario\n",
        "from sklearn.preprocessing import label_binarize\n",
        "n_classes = 3  # Número de clases\n",
        "test_true_labels_binarized = label_binarize(test_true_labels, classes=[0, 1, 2])\n",
        "\n",
        "# Calcular las probabilidades para cada clase\n",
        "fpr = {}\n",
        "tpr = {}\n",
        "roc_auc = {}\n",
        "for i in range(n_classes):\n",
        "    fpr[i], tpr[i], _ = roc_curve(test_true_labels_binarized[:, i], test_pred[:, i])\n",
        "    roc_auc[i] = auc(fpr[i], tpr[i])\n",
        "\n",
        "# Plotear la curva ROC\n",
        "plt.figure()\n",
        "colors = ['aqua', 'darkorange', 'cornflowerblue']\n",
        "for i, color in zip(range(n_classes), colors):\n",
        "    plt.plot(fpr[i], tpr[i], color=color, lw=2, label=f'Clase {i} (area = {roc_auc[i]:.2f})')\n",
        "\n",
        "plt.plot([0, 1], [0, 1], 'k--', lw=2)\n",
        "plt.xlim([0.0, 1.0])\n",
        "plt.ylim([0.0, 1.05])\n",
        "plt.xlabel('False Positive Rate')\n",
        "plt.ylabel('True Positive Rate')\n",
        "plt.title('Receiver Operating Characteristic')\n",
        "plt.legend(loc=\"lower right\")\n",
        "plt.show()\n"
      ],
      "metadata": {
        "colab": {
          "base_uri": "https://localhost:8080/",
          "height": 527
        },
        "id": "KfU6WT-avK_5",
        "outputId": "844c8a71-2d3f-416c-c762-b4860e7fb135"
      },
      "execution_count": null,
      "outputs": [
        {
          "output_type": "stream",
          "name": "stderr",
          "text": [
            "/usr/local/lib/python3.10/dist-packages/sklearn/metrics/_ranking.py:1029: UndefinedMetricWarning: No positive samples in y_true, true positive value should be meaningless\n",
            "  warnings.warn(\n"
          ]
        },
        {
          "output_type": "display_data",
          "data": {
            "text/plain": [
              "<Figure size 640x480 with 1 Axes>"
            ],
            "image/png": "[encoded data removed]"
          },
          "metadata": {}
        }
      ]
    },
    {
      "cell_type": "markdown",
      "source": [
        "La grafica indica que par ala clase 0 y 2 los AUC de 1 tiene una precisiónm perfecta al distinguir estas clases"
      ],
      "metadata": {
        "id": "ajPXjNxHxDea"
      }
    },
    {
      "cell_type": "markdown",
      "source": [
        "# Uso de la RNNA"
      ],
      "metadata": {
        "id": "ovSgfMI1S852"
      }
    },
    {
      "cell_type": "code",
      "source": [
        "# Se propone usar la primera muestra del conjunto de prueba\n",
        "sample_to_predict = test_input[0:1]"
      ],
      "metadata": {
        "id": "TDqBv5LpS_N_"
      },
      "execution_count": null,
      "outputs": []
    },
    {
      "cell_type": "code",
      "source": [
        "# Hacer la predicción\n",
        "prediction = model.predict(sample_to_predict)\n",
        "print(\"Probabilidades de cada clase:\", prediction)\n"
      ],
      "metadata": {
        "colab": {
          "base_uri": "https://localhost:8080/"
        },
        "id": "1O4SaJT3TDkZ",
        "outputId": "671ea3d1-6627-45fe-d3cf-1b6454cbd092"
      },
      "execution_count": null,
      "outputs": [
        {
          "output_type": "stream",
          "name": "stdout",
          "text": [
            "1/1 [==============================] - 0s 353ms/step\n",
            "Probabilidades de cada clase: [[0.9598026  0.02654028 0.01365703]]\n"
          ]
        }
      ]
    },
    {
      "cell_type": "code",
      "source": [
        "# Determinar la clase predicha\n",
        "predicted_class = np.argmax(prediction, axis=1)\n",
        "class_labels = ['run', 'walk', 'sit']\n",
        "predicted_state = class_labels[predicted_class[0]]\n",
        "\n",
        "print(\"El estado predicho es:\", predicted_state)\n"
      ],
      "metadata": {
        "colab": {
          "base_uri": "https://localhost:8080/"
        },
        "id": "xZI1EgDNTJeL",
        "outputId": "3f193a4b-5982-4c50-87fb-86347f0eecc7"
      },
      "execution_count": null,
      "outputs": [
        {
          "output_type": "stream",
          "name": "stdout",
          "text": [
            "El estado predicho es: run\n"
          ]
        }
      ]
    },
    {
      "cell_type": "markdown",
      "source": [
        "# Predecir con un dato externo al entrenamiento"
      ],
      "metadata": {
        "id": "2H2S0m1QaNVN"
      }
    },
    {
      "cell_type": "code",
      "source": [
        "import numpy as np\n",
        "\n",
        "# Cargar el tensor\n",
        "data_tensor = np.load('/content/drive/MyDrive/TPDS/data_single_tensor_s13.npy', allow_pickle=True)\n",
        "\n",
        "# Imprimir las primeras filas para inspección\n",
        "print(data_tensor[:5])\n"
      ],
      "metadata": {
        "colab": {
          "base_uri": "https://localhost:8080/"
        },
        "id": "gRAKrstfaQ8c",
        "outputId": "d9c9cbca-47e8-40e4-81f5-6e92a022a5fa"
      },
      "execution_count": null,
      "outputs": [
        {
          "output_type": "stream",
          "name": "stdout",
          "text": [
            "[[29685 0 81354 78060 3748 86039 95755 5862 6965507 5303105 33.56 35.63\n",
            "  '34.448.349' '9.372.581' '-3.423.883' '1.901.093' '-0.905586' -0.494907\n",
            "  '0.86616']\n",
            " [30601 0 81354 78060 3748 86039 95755 5862 6965507 5303105 33.56 35.63\n",
            "  '34.448.349' '9.372.581' '-3.423.883' '1.901.093' '-0.905586' -0.494907\n",
            "  '0.86616']\n",
            " [31427 0 81365 78048 3750 86053 95755 5864 6965507 5303105 33.56 35.63\n",
            "  '3.444.236' '9.373.777' '-340.413' '1.896.903' '-0.914774' -0.492377\n",
            "  '0.865627']\n",
            " [32186 0 81361 78056 3753 86055 95744 5861 6965507 5303105 33.56 35.63\n",
            "  '34.439.362' '9.358.812' '-3.380.785' '1.875.953' '-0.923429' -0.489314\n",
            "  '0.864295']\n",
            " [32762 0 81358 78052 3757 86062 95754 5865 6965507 5303105 33.5 35.63\n",
            "  '34.436.367' '934.744' '-334.068' '1.836.446' '-0.941006' -0.485186\n",
            "  '0.859369']]\n"
          ]
        }
      ]
    },
    {
      "cell_type": "code",
      "source": [
        "# Función para limpiar y convertir a flotante\n",
        "def clean_convert(x):\n",
        "    if isinstance(x, str):  # Si el elemento es una cadena\n",
        "        try:\n",
        "            return float(x.replace('.', '').replace(',', '.'))\n",
        "        except ValueError:\n",
        "            return np.nan  # Convertir a NaN si no es posible la conversión\n",
        "    return x\n",
        "\n",
        "# Aplicar la función a cada elemento en el tensor\n",
        "cleaned_tensor = np.vectorize(clean_convert)(data_tensor)\n",
        "\n",
        "# Verificar si hay NaNs y decidir qué hacer con ellos\n",
        "if np.isnan(cleaned_tensor).any():\n",
        "    print(\"Hay NaNs en el tensor.\")\n",
        "    # Opción 1: Rellenar NaNs, por ejemplo con la media de la columna\n",
        "    # O rellenar con ceros o eliminar las filas/columnas con NaNs\n",
        "    mean_values = np.nanmean(cleaned_tensor, axis=0)  # Calcular la media ignorando NaNs\n",
        "    indices = np.where(np.isnan(cleaned_tensor))  # Encontrar índices de NaNs\n",
        "    cleaned_tensor[indices] = np.take(mean_values, indices[1])  # Rellenar NaNs con la media\n",
        "\n",
        "from sklearn.preprocessing import StandardScaler\n",
        "\n",
        "scaler = StandardScaler()\n",
        "# Asumiendo que el tensor está en la forma correcta para la normalización\n",
        "data_tensor_normalized = scaler.fit_transform(cleaned_tensor)\n",
        "\n",
        "# Verificar la forma y el tipo de los datos normalizados\n",
        "print(data_tensor_normalized.shape)\n",
        "print(data_tensor_normalized.dtype)\n",
        "\n",
        "# la forma correcta deba ser (1, 499, 19) y data_tensor_normalized tiene forma (499, 19)\n",
        "if len(data_tensor_normalized.shape) == 2:\n",
        "    data_tensor_normalized = np.expand_dims(data_tensor_normalized, axis=0)\n",
        "\n",
        "print(\"Nueva forma del tensor de entrada:\", data_tensor_normalized.shape)\n",
        "\n",
        "\n"
      ],
      "metadata": {
        "colab": {
          "base_uri": "https://localhost:8080/"
        },
        "id": "Xf_upe8jaeEm",
        "outputId": "afb68c1f-3767-478d-c365-2e543f9b32aa"
      },
      "execution_count": null,
      "outputs": [
        {
          "output_type": "stream",
          "name": "stdout",
          "text": [
            "(499, 19)\n",
            "float64\n",
            "Nueva forma del tensor de entrada: (1, 499, 19)\n"
          ]
        }
      ]
    },
    {
      "cell_type": "code",
      "source": [
        "# Suponiendo que 'model' es tu modelo cargado\n",
        "prediction = model.predict(data_tensor_normalized)\n",
        "print(\"Probabilidades de cada clase:\", prediction)\n",
        "\n",
        "# Interpretar la predicción\n",
        "predicted_class = np.argmax(prediction, axis=1)\n",
        "class_labels = ['run', 'walk', 'sit']\n",
        "predicted_state = class_labels[predicted_class[0]]\n",
        "\n",
        "print(\"El estado predicho es:\", predicted_state)\n"
      ],
      "metadata": {
        "colab": {
          "base_uri": "https://localhost:8080/"
        },
        "id": "zIhTUrtPbQ38",
        "outputId": "c42df7e7-4342-41ca-dcae-5c9bad299fe6"
      },
      "execution_count": null,
      "outputs": [
        {
          "output_type": "stream",
          "name": "stdout",
          "text": [
            "1/1 [==============================] - 0s 61ms/step\n",
            "Probabilidades de cada clase: [[0.29333737 0.6162277  0.09043489]]\n",
            "El estado predicho es: walk\n"
          ]
        }
      ]
    },
    {
      "cell_type": "markdown",
      "source": [
        "# otra perdicción."
      ],
      "metadata": {
        "id": "YLSR_pGNdBmh"
      }
    },
    {
      "cell_type": "code",
      "source": [
        "import numpy as np\n",
        "\n",
        "# Cargar el tensor\n",
        "data_tensor2 = np.load('/content/drive/MyDrive/TPDS/data_single_tensor_s20.npy', allow_pickle=True)\n",
        "\n",
        "# Imprimir las primeras filas para inspección\n",
        "print(data_tensor2[:5])\n",
        "\n",
        "# Función para limpiar y convertir a flotante\n",
        "def clean_convert(x):\n",
        "    if isinstance(x, str):  # Si el elemento es una cadena\n",
        "        try:\n",
        "            return float(x.replace('.', '').replace(',', '.'))\n",
        "        except ValueError:\n",
        "            return np.nan  # Convertir a NaN si no es posible la conversión\n",
        "    return x\n",
        "\n",
        "# Aplicar la función a cada elemento en el tensor\n",
        "cleaned_tensor2 = np.vectorize(clean_convert)(data_tensor2)\n",
        "\n",
        "# Verificar si hay NaNs y decidir qué hacer con ellos\n",
        "if np.isnan(cleaned_tensor2).any():\n",
        "    print(\"Hay NaNs en el tensor.\")\n",
        "    # Opción 1: Rellenar NaNs, por ejemplo con la media de la columna\n",
        "    # O rellenar con ceros o eliminar las filas/columnas con NaNs\n",
        "    mean_values = np.nanmean(cleaned_tensor2, axis=0)  # Calcular la media ignorando NaNs\n",
        "    indices = np.where(np.isnan(cleaned_tensor2))  # Encontrar índices de NaNs\n",
        "    cleaned_tensor2[indices] = np.take(mean_values, indices[1])  # Rellenar NaNs con la media\n",
        "\n",
        "from sklearn.preprocessing import StandardScaler\n",
        "\n",
        "scaler = StandardScaler()\n",
        "# Asumiendo que el tensor está en la forma correcta para la normalización\n",
        "data_tensor_normalized2 = scaler.fit_transform(cleaned_tensor2)\n",
        "\n",
        "# Verificar la forma y el tipo de los datos normalizados\n",
        "print(data_tensor_normalized2.shape)\n",
        "print(data_tensor_normalized2.dtype)\n",
        "\n",
        "# la forma correcta deba ser (1, 499, 19) y data_tensor_normalized2 tiene forma (499, 19)\n",
        "if len(data_tensor_normalized2.shape) == 2:\n",
        "    data_tensor_normalized2 = np.expand_dims(data_tensor_normalized2, axis=0)\n",
        "\n",
        "print(\"Nueva forma del tensor de entrada:\", data_tensor_normalized2.shape)\n",
        "\n",
        "# Suponiendo que 'model' es tu modelo cargado\n",
        "prediction2 = model.predict(data_tensor_normalized2)\n",
        "print(\"Probabilidades de cada clase:\", prediction2)\n",
        "\n",
        "# Interpretar la predicción\n",
        "predicted_class = np.argmax(prediction2, axis=1)\n",
        "class_labels = ['run', 'walk', 'sit']\n",
        "predicted_state = class_labels[predicted_class[0]]\n",
        "\n",
        "print(\"El estado predicho es:\", predicted_state)\n"
      ],
      "metadata": {
        "colab": {
          "base_uri": "https://localhost:8080/"
        },
        "id": "lcUEA_UHdMOP",
        "outputId": "6a0220d5-0ecf-4747-fd77-437acb807467"
      },
      "execution_count": null,
      "outputs": [
        {
          "output_type": "stream",
          "name": "stdout",
          "text": [
            "[[30178 0 78331 79452 4284 85981 92914 5710 5955591 6117513 33.94 35.63\n",
            "  '34.127.865' 0.89428 -0.74224 '-9.415.079' 0.000563 '-0.006127'\n",
            "  -0.001353]\n",
            " [30181 0 78340 79475 4272 85980 92906 5713 5955591 6117513 33.94 35.44\n",
            "  '3.412.487' 0.903259 -0.747628 '-9.425.255' -0.000635 '-0.005061'\n",
            "  -0.001752]\n",
            " [30219 0 78336 79487 4269 85969 92918 5715 5959371 6117513 33.94 35.44\n",
            "  '34.127.865' 0.909244 -0.748825 '-9.438.424' -0.0017 '-0.004129'\n",
            "  -0.001752]\n",
            " [30223 0 78348 79475 4281 85969 92918 5715 5959371 6117513 33.94 35.44\n",
            "  '3.412.487' 0.911639 -0.745832 '-9.435.431' -0.003565 '-0.002531'\n",
            "  -0.001752]\n",
            " [30244 0 78344 79491 4268 85974 92919 5717 5959371 6117513 33.94 35.44\n",
            "  '34.115.883' 0.913435 -0.735656 '-9.431.241' -0.006095 '-0.0008'\n",
            "  -0.001886]]\n",
            "(499, 19)\n",
            "float64\n",
            "Nueva forma del tensor de entrada: (1, 499, 19)\n",
            "1/1 [==============================] - 0s 51ms/step\n",
            "Probabilidades de cada clase: [[0.13881706 0.08650023 0.77468276]]\n",
            "El estado predicho es: sit\n"
          ]
        }
      ]
    },
    {
      "cell_type": "markdown",
      "source": [
        "# Analisis del ejercicio:\n",
        "\n",
        "Se escogio una Red neuronal recurrente (RNN) con unidades LSTM (Long Short-Term Memory). Este tipo de red se utiliza  para tareas relacionadas con datos secuenciales y temporales, como el análisis de series temporales, el procesamiento de lenguaje natural, y la clasificación de actividades basada en datos de sensores.\n",
        "\n",
        "Dado que los datos de análisis son series temporales de señales de sensores (ECG, pleth_3, a_y, ++), las LSTM son ideales porque pueden analizar la secuencia de datos en el tiempo y detectar patrones importantes para la clasificación.\n",
        "\n",
        "## Estructura de la Red Propuesta\n",
        "La red incluye las siguientes capas y configuraciones:\n",
        "\n",
        "Capas LSTM:  Dos capas LSTM consecutivas. La primera capa LSTM tiene return_sequences=True, lo que significa que devuelve una secuencia completa a la siguiente capa, permitiendo que la información temporal se preserve a lo largo de la red. La segunda capa LSTM devuelve solo el último output, condensando así la información de toda la secuencia en un solo vector.\n",
        "\n",
        "Capa Densa: Después de las capas LSTM, se incluye una capa densa con una activación 'softmax'. Esta capa transforma el vector final de la LSTM en probabilidades de pertenencia a cada una de las clases (run, walk, sit). La función 'softmax' es ideal para clasificación multiclase porque normaliza las salidas en un vector de probabilidades.\n",
        "\n",
        "\n",
        "La red neuronal que hemos discutido para tu proyecto es una Red Neuronal Recurrente (RNN) con unidades LSTM (Long Short-Term Memory). Este tipo de red se utiliza comúnmente para tareas relacionadas con datos secuenciales y temporales, como el análisis de series temporales, el procesamiento de lenguaje natural, y la clasificación de actividades basada en datos de sensores. A continuación, te explico las características principales de esta red y por qué se eligió para tu tarea:\n",
        "\n",
        "Características de las Redes LSTM\n",
        "Memoria a Largo Plazo: Las LSTM son una mejora de las RNN tradicionales porque son capaces de aprender dependencias a largo plazo en los datos. Esto se logra gracias a su estructura interna, que incluye puertas que regulan el flujo de información, permitiéndoles recordar información durante períodos prolongados y olvidar lo que ya no es necesario.\n",
        "Gestión de Desvanecimiento del Gradiente: Las RNN estándar suelen tener problemas con el desvanecimiento o la explosión del gradiente cuando se entrenan con secuencias largas. Las LSTM abordan este problema mediante el uso de sus puertas de entrada, olvido y salida, que facilitan mantener el gradiente en un nivel adecuado durante el aprendizaje.\n",
        "Aplicabilidad en Datos Temporales: Dado que tus datos son series temporales de señales de sensores (ECG, pleth_3, a_y), las LSTM son ideales porque pueden analizar la secuencia de datos en el tiempo y detectar patrones importantes para la clasificación.\n",
        "Estructura de la Red Propuesta\n",
        "La red que hemos discutido incluye las siguientes capas y configuraciones:\n",
        "\n",
        "Capas LSTM: Usamos dos capas LSTM consecutivas. La primera capa LSTM tiene return_sequences=True, lo que significa que devuelve una secuencia completa a la siguiente capa, permitiendo que la información temporal se preserve a lo largo de la red. La segunda capa LSTM devuelve solo el último output, condensando así la información de toda la secuencia en un solo vector.\n",
        "Capa Densa: Después de las capas LSTM, se incluye una capa densa con una activación 'softmax'. Esta capa transforma el vector final de la LSTM en probabilidades de pertenencia a cada una de las clases (run, walk, sit). La función 'softmax' es ideal para clasificación multiclase porque normaliza las salidas en un vector de probabilidades que suman 1.\n",
        "\n",
        "## Razón de la Elección\n",
        "\n",
        "Este tipo de red se eligió debido a la naturaleza de los datos:\n",
        "\n",
        "Los datos representan secuencias temporales de señales fisiológicas y de movimiento, donde el orden y el tiempo entre las observaciones son\n",
        "cruciales para entender el comportamiento.\n",
        "\n",
        "Se manejas múltiples tipos de señales simultáneamente, lo que requiere una red que pueda entender y procesar varias secuencias de entrada a la vez.\n",
        "\n",
        "En el contexto de la red neuronal elegida y por la naturaleza de los datos , las características específicas que la red neuronal extrae no son predeterminadas o manualmente seleccionadas en la forma tradicional de extracción de características. En cambio, la red neuronal, especialmente una con capas LSTM (Long Short-Term Memory), aprende a identificar y extraer características útiles directamente de los datos brutos durante el proceso de entrenamiento.\n"
      ],
      "metadata": {
        "id": "sU3mOm4grON1"
      }
    },
    {
      "cell_type": "markdown",
      "source": [
        "## Conclusión\n",
        "La red neuronal con capas LSTM es una elección excelente para la clasificación de actividades a partir de datos de sensores debido a su capacidad para procesar y aprender de secuencias temporales, su flexibilidad en la gestión de diferentes formas de datos, y su capacidad en el aprendizaje automático de características. Estas caracteristicas hacen que las LSTM sean adecuadas para tareas en las que las secuencias temporales y las dependencias entre los eventos son fundamentales para realizar predicciones."
      ],
      "metadata": {
        "id": "1gCYLgTVtx1v"
      }
    },
    {
      "cell_type": "code",
      "source": [],
      "metadata": {
        "id": "leFhHWoynbEK"
      },
      "execution_count": null,
      "outputs": []
    }
  ]
}