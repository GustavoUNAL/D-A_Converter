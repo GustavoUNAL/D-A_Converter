{
 "cells": [
  {
   "cell_type": "markdown",
   "metadata": {},
   "source": [
    "## Ejemplo proyecto interactivo - Señal Seno"
   ]
  },
  {
   "cell_type": "markdown",
   "metadata": {},
   "source": [
    "## Formula de reconstrucción usando la función escalón g(t)\n",
    "\n",
    "\n",
    "![General Reconstruction Formula (I)](./img/GeneralReconstructionFormula(I).png)\n",
    "#\n",
    "Tomado de: *Notas de clase*"
   ]
  },
  {
   "cell_type": "code",
   "execution_count": null,
   "metadata": {},
   "outputs": [],
   "source": [
    "import numpy as np\n",
    "import matplotlib.pyplot as plt\n",
    "from scipy.fft import fft, fftfreq\n",
    "from ipywidgets import interactive\n",
    "import ipywidgets as widgets\n",
    "\n",
    "def simulate_sample_hold(frequency, sampling_rate, duration, sampling_period):\n",
    "    time = np.arange(0, duration, 1/sampling_rate)\n",
    "    analog_signal = np.sin(2 * np.pi * frequency * time)\n",
    "    \n",
    "    sampling_indices = np.arange(0, len(time), int(sampling_period * sampling_rate))\n",
    "    sampled_signal = np.zeros_like(analog_signal)\n",
    "    for i in range(len(sampling_indices)-1):\n",
    "        sampled_signal[sampling_indices[i]:sampling_indices[i+1]] = analog_signal[sampling_indices[i]]\n",
    "    \n",
    "    # Gráfico en el dominio del tiempo\n",
    "    plt.figure(figsize=(15, 5))\n",
    "    plt.subplot(2, 1, 1)  # 2 filas, 1 columna, primer gráfico\n",
    "    plt.plot(time, analog_signal, label='Original Analog Signal')\n",
    "    plt.step(time, sampled_signal, where='post', label='Sampled and Held Signal', color='r')\n",
    "    plt.title('Interactive Sampling and Holding Simulation')\n",
    "    plt.xlabel('Time (s)')\n",
    "    plt.ylabel('Amplitude')\n",
    "    plt.legend()\n",
    "    plt.grid(True)\n",
    "    \n",
    "    # Análisis en el dominio de la frecuencia usando FFT\n",
    "    N = len(time)\n",
    "    yf = fft(sampled_signal)\n",
    "    xf = fftfreq(N, 1/sampling_rate)[:N//2]\n",
    "    \n",
    "    plt.subplot(2, 1, 2)  # 2 filas, 1 columna, segundo gráfico\n",
    "    plt.plot(xf, 2.0/N * np.abs(yf[0:N//2]))\n",
    "    plt.title('Frequency Domain')\n",
    "    plt.xlabel('Frequency (Hz)')\n",
    "    plt.ylabel('Magnitude')\n",
    "    plt.grid(True)\n",
    "    plt.tight_layout()\n",
    "    plt.show()\n",
    "\n",
    "# Crear widgets para los controles deslizantes\n",
    "interactive_plot = interactive(simulate_sample_hold, \n",
    "                               frequency=widgets.FloatSlider(value=1, min=0.1, max=10, step=0.1, description='Frequency:'),\n",
    "                               sampling_rate=widgets.IntSlider(value=100, min=10, max=500, step=10, description='Sampling Rate:'),\n",
    "                               duration=widgets.FloatSlider(value=2, min=1, max=5, step=0.1, description='Duration:'),\n",
    "                               sampling_period=widgets.FloatSlider(value=0.2, min=0.01, max=1, step=0.01, description='Sampling Period:'))\n",
    "display(interactive_plot)\n"
   ]
  },
  {
   "cell_type": "markdown",
   "metadata": {},
   "source": [
    "## Formula de reconstrucción usando la función sinc(x)\n",
    "\n",
    "\n",
    "![General Reconstruction Formula (I)](./img/formula_2.png)\n",
    "#\n",
    "Tomado de: *Notas de clase*"
   ]
  },
  {
   "cell_type": "markdown",
   "metadata": {},
   "source": [
    "## Función Sinc(x)"
   ]
  },
  {
   "cell_type": "code",
   "execution_count": null,
   "metadata": {},
   "outputs": [],
   "source": [
    "import numpy as np\n",
    "import matplotlib.pyplot as plt\n",
    "\n",
    "# Definir el dominio de la función\n",
    "x = np.linspace(-10, 10, 1000)\n",
    "# Calcular la función sinc(x) = sin(pi*x) / (pi*x)\n",
    "# Nota: np.sinc(x) en NumPy es sin(pi*x) / (pi*x), no sin(x) / x\n",
    "y = np.sinc(x)\n",
    "\n",
    "# Graficar la función sinc(x)\n",
    "plt.figure(figsize=(16, 4))\n",
    "plt.plot(x, y, label='sinc(x)')\n",
    "plt.title('Función sinc(x)')\n",
    "plt.xlabel('x')\n",
    "plt.ylabel('sinc(x)')\n",
    "plt.grid(True)\n",
    "plt.legend()\n",
    "plt.show()\n"
   ]
  },
  {
   "cell_type": "code",
   "execution_count": null,
   "metadata": {},
   "outputs": [],
   "source": [
    "import numpy as np\n",
    "import matplotlib.pyplot as plt\n",
    "from scipy.fft import fft, fftfreq\n",
    "from scipy.signal import resample\n",
    "from ipywidgets import interactive\n",
    "import ipywidgets as widgets\n",
    "\n",
    "def simulate_sample_hold_interpolation(frequency, sampling_rate, duration, sampling_period):\n",
    "    time = np.arange(0, duration, 1/sampling_rate)\n",
    "    analog_signal = np.sin(2 * np.pi * frequency * time)\n",
    "    \n",
    "    sampling_indices = np.arange(0, len(time), int(sampling_period * sampling_rate))\n",
    "    sampled_signal = analog_signal[sampling_indices]\n",
    "    sampled_time = time[sampling_indices]\n",
    "    \n",
    "    # Reconstrucción de la señal usando interpolación ideal con sinc\n",
    "    reconstructed_signal = np.zeros_like(time)\n",
    "    for i, sample in enumerate(sampled_signal):\n",
    "        reconstructed_signal += sample * np.sinc((time - sampled_time[i]) * sampling_rate)\n",
    "    \n",
    "    # Gráfico en el dominio del tiempo\n",
    "    plt.figure(figsize=(15, 5))\n",
    "    plt.subplot(2, 1, 1)\n",
    "    plt.plot(time, analog_signal, label='Original Analog Signal', alpha=0.5)\n",
    "    plt.scatter(sampled_time, sampled_signal, color='red', label='Sampled Points')\n",
    "    plt.plot(time, reconstructed_signal, label='Reconstructed Signal', linestyle='--')\n",
    "    plt.title('Interactive Sampling, Holding, and Ideal Interpolation Simulation')\n",
    "    plt.xlabel('Time (s)')\n",
    "    plt.ylabel('Amplitude')\n",
    "    plt.legend()\n",
    "    plt.grid(True)\n",
    "    \n",
    "    # Análisis en el dominio de la frecuencia usando FFT\n",
    "    N = len(time)\n",
    "    yf = fft(reconstructed_signal)\n",
    "    xf = fftfreq(N, 1/sampling_rate)[:N//2]\n",
    "    \n",
    "    plt.subplot(2, 1, 2)\n",
    "    plt.plot(xf, 2.0/N * np.abs(yf[0:N//2]))\n",
    "    plt.title('Frequency Domain of Reconstructed Signal')\n",
    "    plt.xlabel('Frequency (Hz)')\n",
    "    plt.ylabel('Magnitude')\n",
    "    plt.grid(True)\n",
    "    plt.tight_layout()\n",
    "    plt.show()\n",
    "\n",
    "# Crear widgets para los controles deslizantes\n",
    "interactive_plot = interactive(simulate_sample_hold_interpolation, \n",
    "                               frequency=widgets.FloatSlider(value=1, min=0.1, max=10, step=0.1, description='Frequency:'),\n",
    "                               sampling_rate=widgets.IntSlider(value=100, min=10, max=500, step=10, description='Sampling Rate:'),\n",
    "                               duration=widgets.FloatSlider(value=2, min=1, max=5, step=0.1, description='Duration:'),\n",
    "                               sampling_period=widgets.FloatSlider(value=0.2, min=0.01, max=1, step=0.01, description='Sampling Period:'))\n",
    "display(interactive_plot)\n"
   ]
  }
 ],
 "metadata": {
  "kernelspec": {
   "display_name": "Python 3",
   "language": "python",
   "name": "python3"
  },
  "language_info": {
   "codemirror_mode": {
    "name": "ipython",
    "version": 3
   },
   "file_extension": ".py",
   "mimetype": "text/x-python",
   "name": "python",
   "nbconvert_exporter": "python",
   "pygments_lexer": "ipython3",
   "version": "3.11.7"
  }
 },
 "nbformat": 4,
 "nbformat_minor": 2
}
